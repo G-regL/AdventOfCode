{
 "cells": [
  {
   "cell_type": "markdown",
   "metadata": {},
   "source": [
    "## AoC 2023 - Day xx\n",
    "\n",
    "### Setup imports and get raw data"
   ]
  },
  {
   "cell_type": "code",
   "execution_count": 2,
   "metadata": {},
   "outputs": [],
   "source": [
    "from collections import deque\n",
    "#from icecream import ic\n",
    "import pprint\n",
    "\n",
    "#SEARCH_MIN = 7\n",
    "#SEARCH_MAX = 27\n",
    "#data = open('test.txt').read().split('\\n')\n",
    "\n",
    "SEARCH_MIN = 200000000000000\n",
    "SEARCH_MAX = 400000000000000\n",
    "data = open('input.txt').read().split('\\n')\n",
    "\n",
    "\n",
    "def line_intersection(line1, line2):\n",
    "    xdiff = (line1[0][0] - line1[1][0], line2[0][0] - line2[1][0])\n",
    "    ydiff = (line1[0][1] - line1[1][1], line2[0][1] - line2[1][1])\n",
    "\n",
    "    def det(a, b):\n",
    "        return a[0] * b[1] - a[1] * b[0]\n",
    "\n",
    "    div = det(xdiff, ydiff)\n",
    "    if div == 0:\n",
    "        return False\n",
    "\n",
    "    d = (det(*line1), det(*line2))\n",
    "    x = det(d, xdiff) / div\n",
    "    y = det(d, ydiff) / div\n",
    "    return x, y\n",
    "\n",
    "vectors = []\n",
    "for line in data:\n",
    "    vectors.append(tuple([int(thing) for half in line.split(\" @ \") for thing in half.split(\", \")]))\n"
   ]
  },
  {
   "cell_type": "code",
   "execution_count": 5,
   "metadata": {},
   "outputs": [
    {
     "name": "stdout",
     "output_type": "stream",
     "text": [
      "16939\n"
     ]
    }
   ],
   "source": [
    "intersections = set()\n",
    "checked = set()\n",
    "\n",
    "for thisv in vectors:\n",
    "    for thatv in vectors:\n",
    "        \n",
    "        if (thatv,thisv) in checked or (thisv,thatv) in checked:\n",
    "            continue\n",
    "        if thisv == thatv:\n",
    "            continue\n",
    "\n",
    "\n",
    "        a = (thisv[0], thisv[1])\n",
    "        b = (thisv[0] + 2 * thisv[3], thisv[1] + 2 * thisv[4])\n",
    "        c = (thatv[0], thatv[1])\n",
    "        d = (thatv[0] + 2 * thatv[3], thatv[1] + 2 * thatv[4])\n",
    "\n",
    "        intersection = line_intersection((a, b), (c, d))\n",
    "        if intersection:\n",
    "            # if the points intersect\n",
    "\n",
    "            # check if the intersection is within the bounds that we're got defined\n",
    "            if SEARCH_MIN < intersection[0] < SEARCH_MAX and SEARCH_MIN < intersection[1] < SEARCH_MAX:\n",
    "                # check if the interesction is in the direction that the hailstones are moving\n",
    "                #   We do this because we shouldn't count them if the intersections are where the stones came from\n",
    "                #   I didn't have this initially, so my number was WAY too high\n",
    "                if all((intersection[0] - hs[0]) * hs[3] >= 0 and (intersection[1] - hs[1]) * hs[4] >= 0 for hs in (thisv, thatv)):\n",
    "                    intersections.add(intersection)\n",
    "        \n",
    "        checked.add((thisv,thatv))\n",
    "\n",
    "print(len(intersections))\n",
    "\n"
   ]
  },
  {
   "cell_type": "markdown",
   "metadata": {},
   "source": [
    "### HN's solution\n",
    "\n",
    "Pretty much the same as mine, but he had the magic sauce of checking if the interestion of the lines is in the direction of travel"
   ]
  },
  {
   "cell_type": "code",
   "execution_count": 6,
   "metadata": {},
   "outputs": [
    {
     "name": "stdout",
     "output_type": "stream",
     "text": [
      "16939\n"
     ]
    }
   ],
   "source": [
    "class Hailstone:\n",
    "    def __init__(self, sx, sy, sz, vx, vy, vz):\n",
    "        self.sx = sx\n",
    "        self.sy = sy\n",
    "        self.sz = sz\n",
    "        self.vx = vx\n",
    "        self.vy = vy\n",
    "        self.vz = vz\n",
    "        \n",
    "        self.a = vy\n",
    "        self.b = -vx\n",
    "        self.c = vy * sx - vx * sy\n",
    "    \n",
    "    def __repr__(self):\n",
    "        return \"Hailstone{\" + f\"a={self.a}, b={self.b}, c={self.c}\" + \"}\"\n",
    "\n",
    "hailstones = [Hailstone(*map(int, line.replace(\"@\", \",\").split(\",\"))) for line in open('input.txt')]\n",
    "\n",
    "total = 0\n",
    "\n",
    "for i, hs1 in enumerate(hailstones):\n",
    "    for hs2 in hailstones[:i]:\n",
    "        a1, b1, c1 = hs1.a, hs1.b, hs1.c\n",
    "        a2, b2, c2 = hs2.a, hs2.b, hs2.c\n",
    "        if a1 * b2 == b1 * a2:\n",
    "            continue\n",
    "        x = (c1 * b2 - c2 * b1) / (a1 * b2 - a2 * b1)\n",
    "        y = (c2 * a1 - c1 * a2) / (a1 * b2 - a2 * b1)\n",
    "        if 200000000000000 <= x <= 400000000000000 and 200000000000000 <= y <= 400000000000000:\n",
    "            if all((x - hs.sx) * hs.vx >= 0 and (y - hs.sy) * hs.vy >= 0 for hs in (hs1, hs2)):\n",
    "                total += 1\n",
    "\n",
    "print(total)"
   ]
  }
 ],
 "metadata": {
  "kernelspec": {
   "display_name": "Python 3",
   "language": "python",
   "name": "python3"
  },
  "language_info": {
   "codemirror_mode": {
    "name": "ipython",
    "version": 3
   },
   "file_extension": ".py",
   "mimetype": "text/x-python",
   "name": "python",
   "nbconvert_exporter": "python",
   "pygments_lexer": "ipython3",
   "version": "3.11.4"
  }
 },
 "nbformat": 4,
 "nbformat_minor": 2
}
