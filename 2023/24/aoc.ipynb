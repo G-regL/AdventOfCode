{
 "cells": [
  {
   "cell_type": "markdown",
   "metadata": {},
   "source": [
    "## AoC 2023 - Day xx\n",
    "\n",
    "### Setup imports and get raw data"
   ]
  },
  {
   "cell_type": "code",
   "execution_count": 48,
   "metadata": {},
   "outputs": [],
   "source": [
    "from collections import deque\n",
    "#from icecream import ic\n",
    "import pprint\n",
    "\n",
    "SEARCH_MIN = 7\n",
    "SEARCH_MAX = 27\n",
    "data = open('test.txt').read().split('\\n')\n",
    "\n",
    "#SEARCH_MIN = 7\n",
    "#SEARCH_MAX = 27\n",
    "#data = open('input.txt').read().split('\\n')\n",
    "\n",
    "\n",
    "def line_intersection(line1, line2):\n",
    "    xdiff = (line1[0][0] - line1[1][0], line2[0][0] - line2[1][0])\n",
    "    ydiff = (line1[0][1] - line1[1][1], line2[0][1] - line2[1][1])\n",
    "\n",
    "    def det(a, b):\n",
    "        return a[0] * b[1] - a[1] * b[0]\n",
    "\n",
    "    div = det(xdiff, ydiff)\n",
    "    if div == 0:\n",
    "        return False\n",
    "\n",
    "    d = (det(*line1), det(*line2))\n",
    "    x = det(d, xdiff) / div\n",
    "    y = det(d, ydiff) / div\n",
    "    return x, y\n",
    "\n",
    "vectors = []\n",
    "for line in data:\n",
    "    vectors.append(tuple([int(thing) for half in line.split(\" @ \") for thing in half.split(\", \")]))\n"
   ]
  },
  {
   "cell_type": "code",
   "execution_count": 59,
   "metadata": {},
   "outputs": [
    {
     "name": "stdout",
     "output_type": "stream",
     "text": [
      "already checked ((19, 13, 30, -2, 1, -2), (18, 19, 22, -1, -1, -2))\n",
      "already checked ((19, 13, 30, -2, 1, -2), (20, 25, 34, -2, -2, -4))\n",
      "already checked ((18, 19, 22, -1, -1, -2), (20, 25, 34, -2, -2, -4))\n",
      "already checked ((19, 13, 30, -2, 1, -2), (12, 31, 28, -1, -2, -1))\n",
      "already checked ((18, 19, 22, -1, -1, -2), (12, 31, 28, -1, -2, -1))\n",
      "already checked ((20, 25, 34, -2, -2, -4), (12, 31, 28, -1, -2, -1))\n",
      "already checked ((19, 13, 30, -2, 1, -2), (20, 19, 15, 1, -5, -3))\n",
      "already checked ((18, 19, 22, -1, -1, -2), (20, 19, 15, 1, -5, -3))\n",
      "already checked ((20, 25, 34, -2, -2, -4), (20, 19, 15, 1, -5, -3))\n",
      "already checked ((12, 31, 28, -1, -2, -1), (20, 19, 15, 1, -5, -3))\n",
      "5.0\n",
      "2.0\n",
      "5\n",
      "{(19.0, 24.0), (11.666666666666666, 16.666666666666668), (21.444444444444443, 11.777777777777779), (19.666666666666668, 20.666666666666668), (14.333333333333334, 15.333333333333334)}\n"
     ]
    }
   ],
   "source": [
    "crossing_hailstones = set()\n",
    "crossing_hailstones2 = set()\n",
    "intersections = set()\n",
    "#intersections = []\n",
    "checked = set()\n",
    "\n",
    "for thisv in vectors:\n",
    "    for thatv in vectors:\n",
    "        \n",
    "        if (thatv,thisv) in checked or (thisv,thatv) in checked:\n",
    "            print(f\"already checked {(thatv,thisv)}\")\n",
    "            continue\n",
    "        if thisv == thatv:\n",
    "            continue\n",
    "\n",
    "\n",
    "        a = (thisv[0], thisv[1])\n",
    "        b = (thisv[0] + 2 * thisv[3], thisv[1] + 2 * thisv[4])\n",
    "        c = (thatv[0], thatv[1])\n",
    "        d = (thatv[0] + 2 * thatv[3], thatv[1] + 2 * thatv[4])\n",
    "\n",
    "        intersection = line_intersection((a, b), (c, d))\n",
    "        if intersection:\n",
    "            #if 200000000000000 < intersection[0] < 400000000000000 and 200000000000000 < intersection[1] < 400000000000000:\n",
    "            if SEARCH_MIN < intersection[0] < SEARCH_MAX and SEARCH_MIN < intersection[1] < SEARCH_MAX:\n",
    "                crossing_hailstones.add((thisv, thatv))\n",
    "                crossing_hailstones.add((thatv, thisv))\n",
    "                crossing_hailstones2.add(thisv)\n",
    "                crossing_hailstones2.add(thatv)\n",
    "                #print(thisv, thatv)\n",
    "                intersections.add(intersection)\n",
    "                #intersections.append(intersection)\n",
    "        \n",
    "        checked.add((thisv,thatv))\n",
    "\n",
    "#pprint.pprint(intersections)\n",
    "\n",
    "print(len(crossing_hailstones) / 2)\n",
    "print(len(crossing_hailstones2) / 2)\n",
    "print(len(intersections))\n",
    "print(intersections)\n",
    "\n"
   ]
  },
  {
   "cell_type": "markdown",
   "metadata": {},
   "source": [
    "\n",
    "200000000000000\n",
    "284516192488866.9\n",
    "400000000000000"
   ]
  }
 ],
 "metadata": {
  "kernelspec": {
   "display_name": "Python 3",
   "language": "python",
   "name": "python3"
  },
  "language_info": {
   "codemirror_mode": {
    "name": "ipython",
    "version": 3
   },
   "file_extension": ".py",
   "mimetype": "text/x-python",
   "name": "python",
   "nbconvert_exporter": "python",
   "pygments_lexer": "ipython3",
   "version": "3.9.17"
  }
 },
 "nbformat": 4,
 "nbformat_minor": 2
}
