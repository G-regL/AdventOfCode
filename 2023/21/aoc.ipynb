{
 "cells": [
  {
   "cell_type": "markdown",
   "metadata": {},
   "source": [
    "## AoC 2023 - Day 21\n",
    "\n",
    "### Setup imports and get raw data"
   ]
  },
  {
   "cell_type": "code",
   "execution_count": 9,
   "metadata": {},
   "outputs": [],
   "source": [
    "from collections import deque\n",
    "from icecream import ic\n",
    "\n",
    "grid = open('input.txt').read().split('\\n')\n",
    "\n",
    "x_limit = (0, len(grid[0]) - 1)\n",
    "y_limit = (0, len(grid) - 1)"
   ]
  },
  {
   "cell_type": "markdown",
   "metadata": {},
   "source": [
    "### Parse the input to generate the grid\n",
    "\n",
    "I should probably use complex numbers for these grid things, but that's a future me problem."
   ]
  },
  {
   "cell_type": "code",
   "execution_count": 10,
   "metadata": {},
   "outputs": [
    {
     "data": {
      "text/plain": [
       "(65, 65)"
      ]
     },
     "execution_count": 10,
     "metadata": {},
     "output_type": "execute_result"
    }
   ],
   "source": [
    "start = ()\n",
    "# loop through rows/columns\n",
    "for y,line in enumerate(grid):\n",
    "    if line.count('S'):\n",
    "        start = (line.index('S'), y)\n",
    "        \n",
    "start"
   ]
  },
  {
   "cell_type": "code",
   "execution_count": 43,
   "metadata": {},
   "outputs": [
    {
     "name": "stderr",
     "output_type": "stream",
     "text": [
      "ic| len(positions): 3841\n"
     ]
    }
   ],
   "source": [
    "positions = set([start])\n",
    "\n",
    "#              Up       Down    Left     Right\n",
    "directions = ((-1, 0), (1, 0), (0, -1), (0, 1))\n",
    "\n",
    "# Do 6 full steps\n",
    "for _ in range(64):\n",
    "    # initialize the new position set for this step\n",
    "    new_positions = set()\n",
    "    # for each position we *could* be at..\n",
    "    for pos in positions:\n",
    "        # Check\n",
    "        for dir_x, dir_y in directions:\n",
    "            look_x, look_y = pos[0] + dir_x, pos[1] + dir_y\n",
    "            inbounds = (x_limit[0] <= look_x <= x_limit[1]) and (y_limit[0] <= look_y <= y_limit[1])\n",
    "            if inbounds and grid[look_x][look_y] == \".\":\n",
    "                new_positions.add((look_x, look_y))\n",
    "                \n",
    "    positions = new_positions\n",
    "\n",
    "positions.add(start)\n",
    "_ = ic(len(positions))"
   ]
  },
  {
   "cell_type": "markdown",
   "metadata": {},
   "source": [
    "### This is a borrowed solution from Reddit. \n",
    "Got it [here](https://www.reddit.com/r/adventofcode/comments/18nevo3/comment/keavm0j)  \n",
    "I think the last line is using the quadratic equation, but I'm not really sure \n",
    "\n",
    "Also, from the same [thread](https://www.reddit.com/r/adventofcode/comments/18nevo3/comment/kebi7ua/):\n",
    ">At this point I needed hints so I checked here and found out that the middle row/col are empty and read about some solutions from other people to find out it was quadratic. I think it's because once you know the distance to a tile, you can always reach it in a repeated grid by moving from the start position in one direction for the width/length of the board and then doing the same thing as initially (only because the middle row/col is empty).\n",
    ">\n",
    ">First find the remainder steps you can take after moving as many boards as possible. Now since you can move either left/right or up/down you get a square of the repeated boards with the same reachable positions. That is why the relationship is quadratic - the reachable area grows in a square (the reachable positions actually repeat every two boards because the length is odd but this is still quadratic). Therefore, we can solve the quadratic with three terms in the sequence that match with the remainder steps that we take at the end."
   ]
  },
  {
   "cell_type": "code",
   "execution_count": 8,
   "metadata": {},
   "outputs": [
    {
     "name": "stdout",
     "output_type": "stream",
     "text": [
      "Part1: 3841 Part2: 636391426712747\n"
     ]
    }
   ],
   "source": [
    "data = grid\n",
    "n = len(data)\n",
    "sparse = {(i,j) for i in range(n) for j in range(n) if data[i][j] in '.S'}\n",
    "S = next((i,j) for i in range(n) for j in range(n) if data[i][j] == 'S')\n",
    "dirs = [(1,0),(-1,0),(0,1),(0,-1)]\n",
    "\n",
    "def tadd(a,b): return ((a[0]+b[0]),(a[1]+b[1]))\n",
    "def modp(a): return(a[0]%n, a[1]%n)\n",
    "\n",
    "visited, new, cache = {S}, {S}, {0:1}\n",
    "k, r  = 26501365//n, 26501365%n\n",
    "\n",
    "for c in range(1,r+2*n+1):\n",
    "    visited, new = new, { np for p in new for di in dirs for np in [tadd(p,di)] if np not in visited and modp(np) in sparse}\n",
    "    cache[c] = len(new) + (cache[c-2] if c>1 else 0)\n",
    "\n",
    "d2 = cache[r+2*n]+cache[r]-2*cache[r+n]\n",
    "d1 = cache[r+2*n]-cache[r+n]\n",
    "#_ = ic(cache)\n",
    "print(f\"Part1: {cache[64]} Part2: {cache[r+2*n]+(k-2)*(2*d1+(k-1)*d2)//2}\")"
   ]
  }
 ],
 "metadata": {
  "kernelspec": {
   "display_name": "aoc2015",
   "language": "python",
   "name": "python3"
  },
  "language_info": {
   "codemirror_mode": {
    "name": "ipython",
    "version": 3
   },
   "file_extension": ".py",
   "mimetype": "text/x-python",
   "name": "python",
   "nbconvert_exporter": "python",
   "pygments_lexer": "ipython3",
   "version": "3.11.4"
  }
 },
 "nbformat": 4,
 "nbformat_minor": 2
}
