{
 "cells": [
  {
   "cell_type": "markdown",
   "metadata": {},
   "source": [
    "## AoC 2023 - Day 20\n",
    "\n",
    "### Setup imports and get raw data"
   ]
  },
  {
   "cell_type": "code",
   "execution_count": 129,
   "metadata": {},
   "outputs": [],
   "source": [
    "from collections import deque\n",
    "from copy import deepcopy\n",
    "\n",
    "from icecream import ic\n",
    "from pprint import pprint\n",
    "\n",
    "ic.enable()\n",
    "\n",
    "data = open('input.txt').read().split('\\n')"
   ]
  },
  {
   "cell_type": "markdown",
   "metadata": {},
   "source": [
    "### Parse the input to generate modules dict"
   ]
  },
  {
   "cell_type": "code",
   "execution_count": 130,
   "metadata": {},
   "outputs": [
    {
     "name": "stderr",
     "output_type": "stream",
     "text": [
      "ic| broadcast_dest: ['a']\n",
      "ic| modules: {'_b': {'dest': ['a'], 'type': 'b'},\n",
      "              'a': {'dest': ['inv', 'con'], 'state': 0, 'type': '%'},\n",
      "              'b': {'dest': ['con'], 'state': 0, 'type': '%'},\n",
      "              'con': {'dest': ['output'], 'states': {'a': 0, 'b': 0}, 'type': '&'},\n",
      "              'inv': {'dest': ['b'], 'states': {'a': 0}, 'type': '&'},\n",
      "              'output': {'state': 0, 'type': 'o'}}\n"
     ]
    }
   ],
   "source": [
    "modules = {}\n",
    "broadcast_dest = []\n",
    "for m in data:\n",
    "    name, _, dest = m.split(maxsplit=2)\n",
    "    myname = name[1:]\n",
    "    if name == \"broadcaster\":\n",
    "        broadcast_dest = dest.replace(' ', '').split(',')\n",
    "        myname = '_b'\n",
    "        this = {'type': 'b', 'dest': broadcast_dest}\n",
    "    elif name[0] == \"%\":\n",
    "        this = {'type': name[0], 'dest': dest.replace(' ', '').split(','), 'state': 0}\n",
    "    elif name[0] == \"&\":\n",
    "        this = {'type': name[0], 'dest': dest.replace(' ', '').split(','), 'states': {}}\n",
    "\n",
    "    modules[myname] = this\n",
    "\n",
    "for m in [x for x in modules if modules[x][\"type\"] == '&']:\n",
    "    #ic(modules[m])\n",
    "    modules[m][\"states\"] = {y: 0 for y in modules if m in modules[y][\"dest\"]}\n",
    "\n",
    "modules['output'] = {'type': \"o\", 'state': 0}\n",
    "null = ic(broadcast_dest)\n",
    "null = ic(modules)\n",
    "#null = ic(len(modules['inv'][\"states\"]))"
   ]
  },
  {
   "cell_type": "markdown",
   "metadata": {},
   "source": [
    "### Pseudo code of process\n",
    "\n",
    "1. Setup Pulse queue  \n",
    "2. Push the initial broadcast pulses to the queue  \n",
    "3. While there's items in the queue  \n",
    "  1. Popleft an item off the queue  \n",
    "  2. If it's a flip-flop %  \n",
    "     if the pulse is low, flip state  \n",
    "      - if it was off, queue a high pulse  \n",
    "      - if it was on, queue a low pulse  \n",
    "      - increment counters for sent pulses  \n",
    "  3. If it's a conjunction &  \n",
    "    1. store the state of the inbound pulse  \n",
    "    2. if all pulses are High, queue a low pulse  \n",
    "    3. else queue a high pulse  \n",
    "    4. increment counters for sent pulses  "
   ]
  },
  {
   "cell_type": "code",
   "execution_count": 131,
   "metadata": {},
   "outputs": [
    {
     "data": {
      "text/plain": [
       "11687500"
      ]
     },
     "execution_count": 131,
     "metadata": {},
     "output_type": "execute_result"
    }
   ],
   "source": [
    "\n",
    "\n",
    "pulses_high = 0\n",
    "pulses_low = 0\n",
    "modules_cycle = deepcopy(modules)\n",
    "for _ in range(1000):\n",
    "    #print('\\n-- START CYCLE --')\n",
    "    #modules_cycle = deepcopy(modules)\n",
    "\n",
    "    #print(f'___button -low-> broadcaster')\n",
    "    queue = deque([('broadcast', d, 0) for d in broadcast_dest])\n",
    "\n",
    "    pulses_low += 1 + len(broadcast_dest)\n",
    "\n",
    "    #null = ic(queue)\n",
    "\n",
    "\n",
    "    ic.disable()\n",
    "    while queue:\n",
    "        #ic('Start')\n",
    "        #cycle_modules = deepcopy(modules_cycle)\n",
    "        s, d, t = ic(queue.popleft())\n",
    "\n",
    "        #print(f'___{s} {\"-low->\" if t == 0 else \"-high->\"} {d}')\n",
    "        # Flip-flop, but only if the pulse is low\n",
    "        if modules_cycle[d]['type'] == '%' and t == 0:\n",
    "            # flip our state high -> low, low -> high\n",
    "            modules_cycle[d]['state'] = 0 if modules_cycle[d]['state'] == 1 else 1\n",
    "            #queue up a pulse to each of our destinations\n",
    "            # pulse type is the same as our (new) state\n",
    "            new = [(d, x, modules_cycle[d]['state']) for _, x in enumerate(modules_cycle[d]['dest'])]\n",
    "            \n",
    "\n",
    "            #queue.extend(new)\n",
    "            if modules_cycle[d]['state'] == 1:\n",
    "                pulses_high += len(new)\n",
    "            else:\n",
    "                pulses_low += len(new)\n",
    "            ic(' % adding', new)\n",
    "            queue.extend(new)\n",
    "            \n",
    "        # conjunction\n",
    "        elif modules_cycle[d]['type'] == '&':\n",
    "            modules_cycle[d]['states'][s] = t\n",
    "            if sum([foo for foo in modules_cycle[d]['states'].values()]) == len(modules_cycle[d][\"states\"]):\n",
    "                # All input states are high, queue a low pulse to all our destinations\n",
    "                new = [(d, x, 0) for x in modules_cycle[d]['dest']]\n",
    "                pulses_low += len(new)\n",
    "            else:\n",
    "                new = [(d, x, 1) for x in modules_cycle[d]['dest']]\n",
    "                pulses_high += len(new)\n",
    "            ic(' & adding', new)\n",
    "            queue.extend(new)\n",
    "        \n",
    "        \n",
    "        #queue.extend(new)\n",
    "        \n",
    "        #null = ic(queue)\n",
    "        #modules_cycle = cycle_modules\n",
    "pulses_low, pulses_high\n",
    "\n",
    "pulses_low * pulses_high\n"
   ]
  },
  {
   "cell_type": "code",
   "execution_count": 132,
   "metadata": {},
   "outputs": [
    {
     "data": {
      "text/plain": [
       "5"
      ]
     },
     "execution_count": 132,
     "metadata": {},
     "output_type": "execute_result"
    }
   ],
   "source": [
    "foobar = deque([1, 2, 3])\n",
    "#ic.configureOutput(includeContext=False)\n",
    "null = ic(foobar)\n",
    "ic(foobar.popleft())\n",
    "\n",
    "foobar.extend([4, 5, 6])\n",
    "null = ic(foobar)\n",
    "ic(foobar.popleft())\n",
    "ic(foobar.popleft())\n",
    "ic(foobar.popleft())\n",
    "ic(foobar.popleft())"
   ]
  }
 ],
 "metadata": {
  "kernelspec": {
   "display_name": "aoc2023",
   "language": "python",
   "name": "python3"
  },
  "language_info": {
   "codemirror_mode": {
    "name": "ipython",
    "version": 3
   },
   "file_extension": ".py",
   "mimetype": "text/x-python",
   "name": "python",
   "nbconvert_exporter": "python",
   "pygments_lexer": "ipython3",
   "version": "3.11.4"
  }
 },
 "nbformat": 4,
 "nbformat_minor": 2
}
