{
 "cells": [
  {
   "cell_type": "markdown",
   "metadata": {},
   "source": [
    "## AoC 2023 - Day xx\n",
    "\n",
    "### Setup imports and get raw data"
   ]
  },
  {
   "cell_type": "code",
   "execution_count": 90,
   "metadata": {},
   "outputs": [
    {
     "name": "stderr",
     "output_type": "stream",
     "text": [
      "ic| start: (0, 1)\n",
      "    end: (22, 21)\n",
      "    directions: (((-1, 0), '.^'), ((1, 0), '.v'), ((0, -1), '.<'), ((0, 1), '.>'))\n",
      "    limits: (22, 22)\n"
     ]
    }
   ],
   "source": [
    "from collections import deque\n",
    "from icecream import ic\n",
    "\n",
    "#grid = {complex(x,y): val for y, row in enumerate(data) for x, val in enumerate(row)}\n",
    "#grid = open('input.txt').read().split('\\n')\n",
    "grid = open('test.txt').read().split('\\n')\n",
    "\n",
    "limits = (len(grid[0]) - 1, len(grid) - 1)\n",
    "\n",
    "start = (0, grid[0].index(\".\"))\n",
    "end = (len(grid) - 1, grid[-1].index(\".\"))\n",
    "\n",
    "#dirs = [((1), '.^'), (-1, '.v'), (1j, '.>'), (-1j, '.<')]  # north, south, east, west\n",
    "#              Up             Down            Left             Right\n",
    "directions = (((-1, 0),'.^'), ((1, 0), '.v'), ((0, -1), '.<'), ((0, 1), '.>'))\n",
    "\n",
    "_ = ic(start, end, directions, limits)\n",
    "\n",
    "def print_grid(grid, all_visited):\n",
    "    for y,line in enumerate(grid):\n",
    "        l = ''\n",
    "        #print(y)\n",
    "        for x,char in enumerate(line):\n",
    "            #ic(x, y)\n",
    "            if grid[y][x] in '.^v<>':\n",
    "                if (y, x) in all_visited:\n",
    "                    l += 'O'\n",
    "                else:\n",
    "                    l += grid[y][x]\n",
    "            else:\n",
    "                l += \"#\"\n",
    "        print(l)"
   ]
  },
  {
   "cell_type": "code",
   "execution_count": 69,
   "metadata": {},
   "outputs": [
    {
     "name": "stderr",
     "output_type": "stream",
     "text": [
      "ic| routes: [190]\n"
     ]
    }
   ],
   "source": [
    "all_visited = set()\n",
    "all_visited.add(start)\n",
    "\n",
    "queue = deque([(start, set([(start)]))])\n",
    "\n",
    "routes = []\n",
    "#while queue:\n",
    "while queue:\n",
    "    (pos_x, pos_y), visited = queue.popleft()\n",
    "    \n",
    "    #pos_x, pos_y = pos\n",
    "    \n",
    "    for (dir_x, dir_y), valid in directions:\n",
    "        look_x, look_y = pos_x + dir_x, pos_y + dir_y\n",
    "        \n",
    "        if (look_x, look_y) == end:\n",
    "            routes.append(len(visited))\n",
    "            \n",
    "        inbounds = (0 <= look_x <= limits[0]) and (0 <= look_y <= limits[1])\n",
    "        if inbounds and grid[look_x][look_y] in '<>^v':\n",
    "            all_visited.add((look_x, look_y))\n",
    "            queue.append(((look_x, look_y), visited))\n",
    "        elif inbounds and grid[look_x][look_y] in valid and (look_x, look_y) not in visited:\n",
    "            \n",
    "            visited.add((look_x, look_y))\n",
    "            all_visited.add((look_x, look_y))\n",
    "            queue.append(((look_x, look_y), visited))\n",
    "            \n",
    "\n",
    "#ic(queue)\n",
    "#ic(all_visited)\n",
    "\n",
    "\n",
    "_ = ic(routes)"
   ]
  },
  {
   "cell_type": "markdown",
   "metadata": {},
   "source": [
    "### HN's solution\n",
    "It's a DFS, but modified to include the number of steps between \"nodes\"; spots on the map where you can take 2 or more paths (not including the one you came from).\n",
    "\n",
    "Once you have that graph, it's relatively easy to work out which path is best, always taking the **longest** route"
   ]
  },
  {
   "cell_type": "code",
   "execution_count": 98,
   "metadata": {},
   "outputs": [
    {
     "name": "stderr",
     "output_type": "stream",
     "text": [
      "ic| dfs(start, graph, set()): 2406\n",
      "ic| dfs(start, graph_p2, set()): 6630\n"
     ]
    },
    {
     "data": {
      "text/plain": [
       "6630"
      ]
     },
     "execution_count": 98,
     "metadata": {},
     "output_type": "execute_result"
    }
   ],
   "source": [
    "grid = open('input.txt').read().split('\\n')\n",
    "start = (0, grid[0].index(\".\"))\n",
    "end = (len(grid) - 1, grid[-1].index(\".\"))\n",
    "points = [start, end]\n",
    "\n",
    "for r, row in enumerate(grid):\n",
    "    for c, ch in enumerate(row):\n",
    "        if ch == \"#\":\n",
    "            continue\n",
    "        neighbors = 0\n",
    "        for nr, nc in [(r - 1, c), (r + 1, c), (r, c - 1), (r, c + 1)]:\n",
    "            if 0 <= nr < len(grid) and 0 <= nc < len(grid[0]) and grid[nr][nc] != \"#\":\n",
    "                neighbors += 1\n",
    "        if neighbors >= 3:\n",
    "            points.append((r, c))\n",
    "\n",
    "graph = {pt: {} for pt in points}\n",
    "\n",
    "dirs = {\n",
    "    \"^\": [(-1, 0)],\n",
    "    \"v\": [(1, 0)],\n",
    "    \"<\": [(0, -1)],\n",
    "    \">\": [(0, 1)],\n",
    "    \".\": [(-1, 0), (1, 0), (0, -1), (0, 1)],\n",
    "}\n",
    "\n",
    "for sr, sc in points:\n",
    "    stack = [(0, sr, sc)]\n",
    "    seen = {(sr, sc)}\n",
    "\n",
    "    while stack:\n",
    "        n, r, c = stack.pop()\n",
    "        \n",
    "        if n != 0 and (r, c) in points:\n",
    "            graph[(sr, sc)][(r, c)] = n\n",
    "            continue\n",
    "\n",
    "        for dr, dc in dirs[grid[r][c]]:\n",
    "            nr = r + dr\n",
    "            nc = c + dc\n",
    "            if 0 <= nr < len(grid) and 0 <= nc < len(grid[0]) and grid[nr][nc] != \"#\" and (nr, nc) not in seen:\n",
    "                stack.append((n + 1, nr, nc))\n",
    "                seen.add((nr, nc))\n",
    "                \n",
    "#_ = ic(graph)\n",
    "\n",
    "graph_p2 = {pt: {} for pt in points}\n",
    "\n",
    "for sr, sc in points:\n",
    "    stack = [(0, sr, sc)]\n",
    "    seen = {(sr, sc)}\n",
    "\n",
    "    while stack:\n",
    "        n, r, c = stack.pop()\n",
    "        \n",
    "        if n != 0 and (r, c) in points:\n",
    "            graph_p2[(sr, sc)][(r, c)] = n\n",
    "            continue\n",
    "\n",
    "        for dr, dc in [(-1, 0), (1, 0), (0, -1), (0, 1)]:\n",
    "            nr = r + dr\n",
    "            nc = c + dc\n",
    "            if 0 <= nr < len(grid) and 0 <= nc < len(grid[0]) and grid[nr][nc] != \"#\" and (nr, nc) not in seen:\n",
    "                stack.append((n + 1, nr, nc))\n",
    "                seen.add((nr, nc))\n",
    "\n",
    "#_ = ic(graph_p2)\n",
    "\n",
    "def dfs(pt, g, s):\n",
    "    if pt == end:\n",
    "        return 0\n",
    "\n",
    "    m = -float(\"inf\")\n",
    "\n",
    "    s.add(pt)\n",
    "    for nx in g[pt]:\n",
    "        if nx not in s:\n",
    "            m = max(m, dfs(nx, g, s) + g[pt][nx])\n",
    "    s.remove(pt)\n",
    "\n",
    "    return m\n",
    "\n",
    "ic(dfs(start, graph, set()))\n",
    "ic(dfs(start, graph_p2, set()))"
   ]
  }
 ],
 "metadata": {
  "kernelspec": {
   "display_name": "aoc2023",
   "language": "python",
   "name": "python3"
  },
  "language_info": {
   "codemirror_mode": {
    "name": "ipython",
    "version": 3
   },
   "file_extension": ".py",
   "mimetype": "text/x-python",
   "name": "python",
   "nbconvert_exporter": "python",
   "pygments_lexer": "ipython3",
   "version": "3.11.4"
  }
 },
 "nbformat": 4,
 "nbformat_minor": 2
}
