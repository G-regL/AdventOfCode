{
 "cells": [
  {
   "cell_type": "markdown",
   "metadata": {},
   "source": [
    "## AoC 2023 - Day 19\n",
    "\n",
    "### Setup imports and get raw data"
   ]
  },
  {
   "cell_type": "code",
   "execution_count": null,
   "metadata": {},
   "outputs": [],
   "source": [
    "from icecream import ic\n",
    "from pprint import pprint\n",
    "\n",
    "raw_rules, raw_parts = open('test.txt').read().split('\\n\\n')"
   ]
  },
  {
   "cell_type": "markdown",
   "metadata": {},
   "source": [
    "### Parse the input for the parts."
   ]
  },
  {
   "cell_type": "code",
   "execution_count": null,
   "metadata": {},
   "outputs": [],
   "source": [
    "parts = []\n",
    "for part in raw_parts.split('\\n'):\n",
    "    this = {}\n",
    "    for rating in part[1:-1].split(','):\n",
    "        letter, value = rating.split(\"=\")\n",
    "        this[letter] = int(value)\n",
    "    parts.append(this)\n",
    "null = ic(parts)"
   ]
  },
  {
   "cell_type": "markdown",
   "metadata": {},
   "source": [
    "### Parse the input for rules."
   ]
  },
  {
   "cell_type": "code",
   "execution_count": null,
   "metadata": {},
   "outputs": [],
   "source": [
    "rules = {}\n",
    "# loop through data\n",
    "for rule in raw_rules.split('\\n'):\n",
    "    this = []\n",
    "    name, steps = rule[:-1].split('{')\n",
    "    for step in steps.split(','):\n",
    "        s = {\"type\": \"\", \"op\": \"\", \"comp_l\": \"\", \"comp_r\": 0, \"dest\": \"\"}\n",
    "        if any(x in  step for x in ['<', '>']):\n",
    "            s['type'] = \"compare\"\n",
    "            s['op'] = step[1]\n",
    "            s['comp_l'] = step[0]\n",
    "            s['comp_r'] = int(step[2:step.index(':')])\n",
    "            s['dest'] = step[step.index(':') + 1:]\n",
    "        else:\n",
    "            s['type'] = \"move\"\n",
    "            s['dest'] = step\n",
    "        this.append(s)\n",
    "    rules[name] = this\n",
    "null = ic(rules)"
   ]
  },
  {
   "cell_type": "markdown",
   "metadata": {},
   "source": [
    "### Do the Part 1 solution"
   ]
  },
  {
   "cell_type": "code",
   "execution_count": null,
   "metadata": {},
   "outputs": [],
   "source": [
    "answer_p1 = 0\n",
    "for p in parts:\n",
    "    #debug(f'{p}')\n",
    "    location = 'in'\n",
    "    while location != \"A\" and location != 'R':       \n",
    "        for r in rules[location]:\n",
    "            #debug(f'  {r}')\n",
    "            if r[\"type\"] == \"compare\":\n",
    "                if eval(f\"{p[r['comp_l']]} {r['op']} {r['comp_r']}\"):\n",
    "                    location = r['dest']\n",
    "                    break\n",
    "            else:\n",
    "                #debug(f'    move -> {r[\"dest\"]}')\n",
    "                location = r['dest']\n",
    "\n",
    "            #debug(f'  loc {location}')\n",
    "\n",
    "        if location == 'A':\n",
    "            answer_p1 += sum(p.values())\n",
    "\n",
    "null = ic(answer_p1)"
   ]
  }
 ],
 "metadata": {
  "kernelspec": {
   "display_name": "aoc2023",
   "language": "python",
   "name": "python3"
  },
  "language_info": {
   "codemirror_mode": {
    "name": "ipython",
    "version": 3
   },
   "file_extension": ".py",
   "mimetype": "text/x-python",
   "name": "python",
   "nbconvert_exporter": "python",
   "pygments_lexer": "ipython3",
   "version": "3.11.4"
  }
 },
 "nbformat": 4,
 "nbformat_minor": 2
}
