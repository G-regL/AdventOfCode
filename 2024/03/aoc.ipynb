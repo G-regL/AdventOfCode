{
 "cells": [
  {
   "cell_type": "markdown",
   "metadata": {},
   "source": [
    "## AoC 2024 - Day 3\n",
    "\n",
    "### Setup imports and get raw data"
   ]
  },
  {
   "cell_type": "code",
   "execution_count": null,
   "metadata": {},
   "outputs": [],
   "source": [
    "from icecream import ic\n",
    "import re\n",
    "\n",
    "data = open('input.txt').read().replace(\"\\n\",\"\")\n",
    "\n",
    "matches = re.findall(r'mul\\([\\d]{1,3},[\\d]{1,3}\\)', data)\n",
    "ic(matches)\n",
    "\n",
    "sum = 0\n",
    "for mul in matches:\n",
    "    matches = re.match(r'mul\\(([\\d]{1,3}),([\\d]{1,3})\\)', mul)\n",
    "    factor1, factor2 = ic(list(map(int, matches.group(1,2))))\n",
    "    sum += factor1 * factor2\n",
    "\n",
    "ic(sum)\n",
    "\n"
   ]
  }
 ],
 "metadata": {
  "kernelspec": {
   "display_name": "aoc2023",
   "language": "python",
   "name": "python3"
  },
  "language_info": {
   "codemirror_mode": {
    "name": "ipython",
    "version": 3
   },
   "file_extension": ".py",
   "mimetype": "text/x-python",
   "name": "python",
   "nbconvert_exporter": "python",
   "pygments_lexer": "ipython3",
   "version": "3.11.4"
  }
 },
 "nbformat": 4,
 "nbformat_minor": 2
}
