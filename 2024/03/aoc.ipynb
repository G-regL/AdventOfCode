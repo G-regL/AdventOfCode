{
 "cells": [
  {
   "cell_type": "markdown",
   "metadata": {},
   "source": [
    "## AoC 2024 - Day 3\n",
    "\n",
    "### Setup imports and get raw data"
   ]
  },
  {
   "cell_type": "code",
   "execution_count": 35,
   "metadata": {},
   "outputs": [
    {
     "name": "stderr",
     "output_type": "stream",
     "text": [
      "ic| matches: ['mul(2,4)', \"don't()\", 'mul(5,5)', 'mul(11,8)', 'do()', 'mul(8,5)']\n",
      "ic| mul: 'mul(2,4)'\n",
      "ic| list(map(int, matches.group(1,2))): [2, 4]\n",
      "ic| enabled: True\n",
      "ic| mul: \"don't()\"\n",
      "ic| enabled: False\n",
      "ic| mul: 'mul(5,5)'\n",
      "ic| enabled: False\n",
      "ic| mul: 'mul(11,8)'\n",
      "ic| enabled: False\n",
      "ic| mul: 'do()'\n",
      "ic| enabled: True\n",
      "ic| mul: 'mul(8,5)'\n",
      "ic| list(map(int, matches.group(1,2))): [8, 5]\n",
      "ic| enabled: True\n",
      "ic| sum: 48\n"
     ]
    },
    {
     "data": {
      "text/plain": [
       "48"
      ]
     },
     "execution_count": 35,
     "metadata": {},
     "output_type": "execute_result"
    }
   ],
   "source": [
    "from icecream import ic\n",
    "import re\n",
    "\n",
    "data = \"xmul(2,4)&mul[3,7]!^don't()_mul(5,5)+mul(32,64](mul(11,8)undo()?mul(8,5))\"\n",
    "\n",
    "matches = re.findall(r'mul\\([\\d]{1,3},[\\d]{1,3}\\)|don\\'t\\(\\)|do\\(\\)', data)\n",
    "ic(matches)\n",
    "\n",
    "sum = 0\n",
    "enabled = True\n",
    "for mul in matches:\n",
    "\n",
    "    ic(mul)\n",
    "    if mul == \"don't()\":\n",
    "        enabled = False\n",
    "    elif mul == \"do()\":\n",
    "        enabled = True\n",
    "    else:\n",
    "        if enabled:\n",
    "            matches = re.match(r'mul\\(([\\d]{1,3}),([\\d]{1,3})\\)', mul)\n",
    "            factor1, factor2 = ic(list(map(int, matches.group(1,2))))\n",
    "            sum += factor1 * factor2\n",
    "\n",
    "    ic(enabled)\n",
    "ic(sum)\n",
    "\n"
   ]
  }
 ],
 "metadata": {
  "kernelspec": {
   "display_name": "aoc2023",
   "language": "python",
   "name": "python3"
  },
  "language_info": {
   "codemirror_mode": {
    "name": "ipython",
    "version": 3
   },
   "file_extension": ".py",
   "mimetype": "text/x-python",
   "name": "python",
   "nbconvert_exporter": "python",
   "pygments_lexer": "ipython3",
   "version": "3.11.4"
  }
 },
 "nbformat": 4,
 "nbformat_minor": 2
}
