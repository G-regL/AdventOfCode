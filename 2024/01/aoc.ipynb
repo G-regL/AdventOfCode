{
 "cells": [
  {
   "cell_type": "markdown",
   "metadata": {},
   "source": [
    "## AoC 2024 - Day 01"
   ]
  },
  {
   "cell_type": "code",
   "execution_count": 1,
   "metadata": {},
   "outputs": [
    {
     "name": "stdout",
     "output_type": "stream",
     "text": [
      "936063\n",
      "23150395\n"
     ]
    }
   ],
   "source": [
    "data = open('input.txt').read().split('\\n')\n",
    "\n",
    "left_list, right_list = [], []\n",
    "for line in data:\n",
    "    left, right = line.split()\n",
    "    left_list.append(int(left))\n",
    "    right_list.append(int(right))\n",
    "\n",
    "left_list.sort()\n",
    "right_list.sort()\n",
    "\n",
    "distance_sum = 0\n",
    "similarity_score = 0\n",
    "\n",
    "for index,value in enumerate(left_list):\n",
    "    distance_sum += abs(value - right_list[index])\n",
    "    similarity_score += value * right_list.count(value)\n",
    "\n",
    "print(distance_sum)\n",
    "print(similarity_score)"
   ]
  }
 ],
 "metadata": {
  "kernelspec": {
   "display_name": "aoc2023",
   "language": "python",
   "name": "python3"
  },
  "language_info": {
   "codemirror_mode": {
    "name": "ipython",
    "version": 3
   },
   "file_extension": ".py",
   "mimetype": "text/x-python",
   "name": "python",
   "nbconvert_exporter": "python",
   "pygments_lexer": "ipython3",
   "version": "3.11.4"
  }
 },
 "nbformat": 4,
 "nbformat_minor": 2
}
