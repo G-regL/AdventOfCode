{
 "cells": [
  {
   "cell_type": "markdown",
   "metadata": {},
   "source": [
    "## AoC 2024 - Day 6"
   ]
  },
  {
   "cell_type": "code",
   "execution_count": null,
   "metadata": {},
   "outputs": [],
   "source": [
    "#from icecream import ic\n",
    "\n",
    "grid = open('test.txt').read().split('\\n')\n",
    "\n",
    "visited_grid = []\n",
    "grid_p2 = {(x,y): val for y, row in enumerate(grid) for x, val in enumerate(row)}\n",
    "\n",
    "x_limit = len(grid[0])\n",
    "y_limit = len(grid)\n",
    "\n",
    "directions = {\"^\": (0, -1), \">\": (1, 0), \"v\": (0, 1), \"<\": (-1,0)}\n",
    "direction_list = list(directions.keys())\n",
    "direction = \"^\"\n",
    "\n",
    "positions = []\n",
    "position_p2 = set()\n",
    "# loop through rows/columns\n",
    "for y,line in enumerate(grid):\n",
    "    if line.count('^'):\n",
    "        positions.append((line.index('^'), y))\n",
    "\n",
    "    visited_grid.append(list(line))\n",
    "\n",
    "\n",
    "\n",
    "\n",
    "print(f\"{x_limit=}, {y_limit=}\")\n",
    "print(positions)\n",
    "\n",
    "direction_list = direction_list[1:] + [direction_list[0]]\n",
    "print(direction_list)\n",
    "\n",
    "print(positions[-1])\n"
   ]
  },
  {
   "cell_type": "markdown",
   "metadata": {},
   "source": [
    "### Part 1"
   ]
  },
  {
   "cell_type": "code",
   "execution_count": null,
   "metadata": {},
   "outputs": [],
   "source": [
    "# for row in visited_grid:\n",
    "#     print(\"\".join(row))\n",
    "# print(\"\\n\")\n",
    "\n",
    "while 0 <= positions[-1][0] + directions[direction][0] < x_limit and 0 <= positions[-1][1] + directions[direction][1] < y_limit:\n",
    "    new_pos = (positions[-1][0] + directions[direction][0], positions[-1][1] + directions[direction][1])\n",
    "    #print(f\"{new_pos=}\")\n",
    "    if grid[(new_pos[1], new_pos[0]] != \"#\":\n",
    "        positions.append(new_pos)\n",
    "        position_p2.add(((new_pos[0], new_pos[1]), direction))\n",
    "        #print(f\"Haven't found # at {new_pos} = {grid[new_pos[1]][new_pos[0]]}\")\n",
    "        visited_grid[positions[-1][1]][positions[-1][0]] = \"X\"\n",
    "    else:\n",
    "        old_dir = direction\n",
    "        direction = direction_list[0]\n",
    "        direction_list = direction_list[1:] + [direction_list[0]]\n",
    "        #print(f\"Found # at {new_pos}; turning right ({old_dir},{direction}), next dir={direction_list[0]}\")\n",
    "\n",
    "    # for row in visited_grid:\n",
    "    #     print(\"\".join(row))\n",
    "    # print(\"\")\n",
    "\n",
    "print(len(set(positions)))\n",
    "\n",
    "# for row in t_grid:\n",
    "#     print(\"\".join(list(row)))"
   ]
  },
  {
   "cell_type": "markdown",
   "metadata": {},
   "source": [
    "### Part 2"
   ]
  },
  {
   "cell_type": "code",
   "execution_count": null,
   "metadata": {},
   "outputs": [],
   "source": [
    "loops = 0\n",
    "\n",
    "for pos in position_p2:\n",
    "    grid_p2[(pos[1],pos[0])] = \"#\"\n",
    "    path = set()\n",
    "    while True:\n",
    "        new_pos = ((positions[-1][0] + directions[direction][0], positions[-1][1] + directions[direction][1]), direction)\n",
    "        #print(f\"{new_pos=}\")\n",
    "        if new_pos in path:\n",
    "            loops += 1\n",
    "            break\n",
    "\n",
    "        path.add(new_pos)\n",
    "        if grid_p2.get((new_pos[1], new_pos[0])) == \"#\":\n",
    "            old_dir = direction\n",
    "            direction = direction_list[0]\n",
    "            direction_list = direction_list[1:] + [direction_list[0]]\n",
    "    grid_p2[(pos[1],pos[0])] = \".\"\n",
    "    \n",
    "    print(path)\n",
    "\n",
    "print(grid_p2)\n",
    "loops"
   ]
  }
 ],
 "metadata": {
  "kernelspec": {
   "display_name": "aoc",
   "language": "python",
   "name": "python3"
  },
  "language_info": {
   "codemirror_mode": {
    "name": "ipython",
    "version": 3
   },
   "file_extension": ".py",
   "mimetype": "text/x-python",
   "name": "python",
   "nbconvert_exporter": "python",
   "pygments_lexer": "ipython3",
   "version": "3.12.5"
  }
 },
 "nbformat": 4,
 "nbformat_minor": 2
}
