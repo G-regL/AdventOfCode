{
 "cells": [
  {
   "cell_type": "markdown",
   "metadata": {},
   "source": [
    "## AoC 2024 - Day 9"
   ]
  },
  {
   "cell_type": "code",
   "execution_count": 7,
   "metadata": {},
   "outputs": [
    {
     "name": "stdout",
     "output_type": "stream",
     "text": [
      "103518207005\n"
     ]
    }
   ],
   "source": [
    "#from icecream import ic\n",
    "import re\n",
    "\n",
    "disk_map = open('input.txt').read()[:5001]\n",
    "#disk_map = \"2333133121414131402\"\n",
    "\n",
    "disk = []\n",
    "data_indicies = []\n",
    "space_indicies = []\n",
    "data_blocks = 0\n",
    "for index, block in enumerate(disk_map):\n",
    "    if index % 2 == 0:\n",
    "        # is data block\n",
    "\n",
    "        disk.extend([int(index / 2) for i in range(int(block))])\n",
    "        data_blocks += int(block)\n",
    "    else:\n",
    "        disk.extend(list(\".\" * int(block)))\n",
    "        # is blank space\n",
    "\n",
    "for i, block in enumerate(disk):\n",
    "    if block == \".\":\n",
    "        space_indicies.append(i)\n",
    "    else:\n",
    "        data_indicies.append(i)\n",
    "\n",
    "\n",
    "#print(\"\".join(map(str, disk)))\n",
    "##print(f\"{data_indicies=}\\n{space_indicies=}\")\n",
    "# print(disk[:data_blocks].count(\".\"))\n",
    "# print(disk.index(\".\"))\n",
    "\n",
    "while disk[:data_blocks].count(\".\") > 0:\n",
    "    whitespace = space_indicies.pop(0)\n",
    "\n",
    "    last_number = data_indicies.pop()\n",
    "        \n",
    "    disk[whitespace], disk[last_number] = disk[last_number], disk[whitespace]\n",
    "\n",
    "    #print(\"\".join(map(str, disk)))\n",
    "\n",
    "#print(disk)\n",
    "checksum = 0\n",
    "for index, block in enumerate(disk):\n",
    "    #print(f\"{index=}, {block=}\")\n",
    "    if block == \".\":\n",
    "        break\n",
    "    checksum += index * int(block)\n",
    "\n",
    "print(checksum)\n"
   ]
  }
 ],
 "metadata": {
  "kernelspec": {
   "display_name": "aoc",
   "language": "python",
   "name": "python3"
  },
  "language_info": {
   "codemirror_mode": {
    "name": "ipython",
    "version": 3
   },
   "file_extension": ".py",
   "mimetype": "text/x-python",
   "name": "python",
   "nbconvert_exporter": "python",
   "pygments_lexer": "ipython3",
   "version": "3.12.5"
  }
 },
 "nbformat": 4,
 "nbformat_minor": 2
}
