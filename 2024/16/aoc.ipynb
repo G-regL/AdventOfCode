{
 "cells": [
  {
   "cell_type": "markdown",
   "metadata": {},
   "source": [
    "## AoC 2024 - Day 16"
   ]
  },
  {
   "cell_type": "code",
   "execution_count": null,
   "metadata": {},
   "outputs": [
    {
     "name": "stdout",
     "output_type": "stream",
     "text": [
      "S E\n"
     ]
    }
   ],
   "source": [
    "#from icecream import ic\n",
    "import heapq\n",
    "\n",
    "data = open('test.txt').read().split('\\n')\n",
    "\n",
    "# #Same, but using a dictionary, with keys being (row, column) tuples\n",
    "# #Makes in/out of range checks dead simple, using grid.get((r,c))\n",
    "# #    None if it doesn't exist, value otherwise\n",
    "grid = {(r,c): char for r, row in enumerate(data) for c, char in enumerate(row)}\n",
    "\n",
    "def astar(grid, start, goal, dir):\n",
    "    open_set = []\n",
    "\n",
    "    # Priority queue with (F-score, node)\n",
    "    heapq.heappush(open_set, (0, start))\n",
    "    came_from = {}\n",
    "    g_score = {start: 0}\n",
    "    \n",
    "    while open_set:\n",
    "        _, current = heapq.heappop(open_set)\n",
    "        \n",
    "        if current == goal:\n",
    "            # Reconstruct the path and return\n",
    "            path = []\n",
    "            while current in came_from:\n",
    "                path.append(current)\n",
    "                current = came_from[current]\n",
    "            path.append(start)\n",
    "            path.reverse()\n",
    "            return path\n",
    "        \n",
    "        for dr, dc, dir_new in [(0, 1, \">\"), (0, -1, \"<\"), (1, 0, \"^\"), (-1, 0, \"v\")]:\n",
    "            r, c = current[0] + dr, current[1] + dc\n",
    "\n",
    "            neighbor = (r, c)\n",
    "\n",
    "            # Assuming uniform cost for each step\n",
    "            tentative_g = g_score[current] + 1\n",
    "\n",
    "            if dir != dir_new:\n",
    "                tentative_g += 1000\n",
    "            \n",
    "            if not grid.get(neighbor): continue\n",
    "            if grid.get(neighbor) == \"#\": continue\n",
    "\n",
    "            if neighbor not in g_score or tentative_g < g_score[neighbor]:\n",
    "                    g_score[neighbor] = tentative_g\n",
    "                    dist = abs(neighbor[0] - goal[0]) + abs(neighbor[1] - goal[1]) \n",
    "                    f_score = tentative_g + dist\n",
    "                    heapq.heappush(open_set, (f_score, neighbor))\n",
    "                    came_from[neighbor] = current\n",
    "    \n",
    "    return None  # No path found\n",
    "\n",
    "start = (15, 1)\n",
    "goal = (1, 15)\n",
    "direction = \">\"\n",
    "\n",
    "print(grid[start], grid[goal])\n",
    "#path = astar(grid, start, goal)\n",
    "#print(\"Shortest path:\", path)\n"
   ]
  }
 ],
 "metadata": {
  "kernelspec": {
   "display_name": "aoc",
   "language": "python",
   "name": "python3"
  },
  "language_info": {
   "codemirror_mode": {
    "name": "ipython",
    "version": 3
   },
   "file_extension": ".py",
   "mimetype": "text/x-python",
   "name": "python",
   "nbconvert_exporter": "python",
   "pygments_lexer": "ipython3",
   "version": "3.12.5"
  }
 },
 "nbformat": 4,
 "nbformat_minor": 2
}
