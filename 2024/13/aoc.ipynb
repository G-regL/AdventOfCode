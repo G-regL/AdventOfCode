{
 "cells": [
  {
   "cell_type": "markdown",
   "metadata": {},
   "source": [
    "## AoC 2024 - Day 13"
   ]
  },
  {
   "cell_type": "code",
   "execution_count": null,
   "metadata": {},
   "outputs": [
    {
     "data": {
      "text/plain": [
       "[{'a': (94, 34),\n",
       "  'b': (22, 67),\n",
       "  'p': (8400, 5400),\n",
       "  'p2': (10000000008400, 10000000005400)},\n",
       " {'a': (26, 66),\n",
       "  'b': (67, 21),\n",
       "  'p': (12748, 12176),\n",
       "  'p2': (10000000012748, 10000000012176)},\n",
       " {'a': (17, 86),\n",
       "  'b': (84, 37),\n",
       "  'p': (7870, 6450),\n",
       "  'p2': (10000000007870, 10000000006450)},\n",
       " {'a': (69, 23),\n",
       "  'b': (27, 71),\n",
       "  'p': (18641, 10279),\n",
       "  'p2': (10000000018641, 10000000010279)}]"
      ]
     },
     "execution_count": 68,
     "metadata": {},
     "output_type": "execute_result"
    }
   ],
   "source": [
    "#from icecream import ic\n",
    "\n",
    "import re\n",
    "from math import gcd\n",
    "machines_raw = open('test.txt').read().split('\\n\\n')\n",
    "\n",
    "machines = []\n",
    "for mr in machines_raw:\n",
    "    a, b, p = mr.split('\\n')\n",
    "\n",
    "    a = re.match(r'Button A: X\\+(\\d+), Y\\+(\\d+)', a).groups()\n",
    "    b = re.match(r'Button B: X\\+(\\d+), Y\\+(\\d+)', b).groups()\n",
    "    p = re.match(r'Prize: X=(\\d+), Y=(\\d+)', p).groups()\n",
    "    m = {\"a\": tuple(map(int, a)), \"b\": tuple(map(int, b)), \"p\": tuple(map(int, p))}\n",
    "\n",
    "    m[\"p2\"] = (m[\"p\"][0] + 10000000000000, m[\"p\"][1] + 10000000000000)\n",
    "\n",
    "    machines.append(m)\n",
    "\n",
    "machines\n",
    "\n"
   ]
  },
  {
   "cell_type": "code",
   "execution_count": 67,
   "metadata": {},
   "outputs": [
    {
     "name": "stdout",
     "output_type": "stream",
     "text": [
      "a_presses=40.0, a_presses.is_integer()=True\n",
      "b_presses=80.0, b_presses.is_integer()=True\n",
      "a_presses=135.3952528379773, a_presses.is_integer()=False\n",
      "b_presses=141.4045407636739, b_presses.is_integer()=False\n",
      "a_presses=86.0, a_presses.is_integer()=True\n",
      "b_presses=38.0, b_presses.is_integer()=True\n",
      "a_presses=65.56989247311827, a_presses.is_integer()=False\n",
      "b_presses=244.5016362786349, b_presses.is_integer()=False\n"
     ]
    },
    {
     "data": {
      "text/plain": [
       "480"
      ]
     },
     "execution_count": 67,
     "metadata": {},
     "output_type": "execute_result"
    }
   ],
   "source": [
    "\n",
    "tokens = 0\n",
    "for m in machines:\n",
    "\n",
    "    ax = m[\"a\"][0] * m[\"a\"][1]\n",
    "    ay = m[\"b\"][0] * m[\"a\"][1]\n",
    "    ap = m[\"p\"][0] * m[\"a\"][1]\n",
    "    #print(ax, ay, ap)\n",
    "\n",
    "    bx = m[\"a\"][1] * m[\"a\"][0]\n",
    "    by = m[\"b\"][1] * m[\"a\"][0]\n",
    "    bp = m[\"p\"][1] * m[\"a\"][0]\n",
    "    #print(bx,by, bp)\n",
    "\n",
    "    #print(by - ay, bp - ap)\n",
    "\n",
    "    a_presses = (bp - ap) / (by - ay)\n",
    "    print(f\"{a_presses=}, {a_presses.is_integer()=}\")\n",
    "\n",
    "    bx_a = m[\"b\"][0] * a_presses\n",
    "    #print(m[\"b\"][0], bx_a, m[\"p\"][0])\n",
    "    b_presses = (m[\"p\"][0] - bx_a) / m[\"a\"][0]\n",
    "    print(f\"{b_presses=}, {b_presses.is_integer()=}\")\n",
    "\n",
    "    if a_presses.is_integer() and b_presses.is_integer():\n",
    "        tokens += b_presses * 3 + a_presses\n",
    "\n",
    "int(tokens)"
   ]
  },
  {
   "cell_type": "markdown",
   "metadata": {},
   "source": [
    "You want to reach a point (Prize) whose coordinates are given by `X=8400` and `Y=5400`. You can move towards this point by pressing two buttons that move a pointer:\n",
    "\n",
    "- Button A moves the pointer by `X+94` and `Y+34` for each press.\n",
    "- Button B moves the pointer by `X+22` and `Y+67` for each press.\n",
    "\n",
    "To find how many times you need to press each button, let's set up a system of equations where `a` is the number of times you press Button A and `b` is the number of times you press Button B:\n",
    "\n",
    "```\n",
    "94a + 22b = 8400  (Equation 1: X-coordinates)\n",
    "34a + 67b = 5400  (Equation 2: Y-coordinates)\n",
    "```\n",
    "\n",
    "To solve this system of equations, you can use methods like substitution or elimination. I'll use the elimination method:\n",
    "\n",
    "1. Multiply Equation 1 by 34 and Equation 2 by 94 (we choose these numbers based on the coefficients of `a` in the original equations) to eliminate variable `a`:\n",
    "    ```\n",
    "    3196a + 748b = 285600  (Equation 1)\n",
    "    3196a + 6298b = 507600  (Equation 2)\n",
    "    ```\n",
    "\n",
    "2. Subtract Equation 1 from Equation 2 to eliminate `a`:\n",
    "    ```\n",
    "    6298b - 748b = 507600 - 285600\n",
    "    5550b = 222000\n",
    "    ```\n",
    "\n",
    "3. Solve for `b`:\n",
    "    ```\n",
    "    b = 222000 / 5550\n",
    "    b = 40\n",
    "    ```\n",
    "\n",
    "4. Substitute the value of `b` into Equation 1 to find `a`:\n",
    "    ```\n",
    "    94a + 22*40 = 8400\n",
    "    94a + 880 = 8400\n",
    "    94a = 8400 - 880\n",
    "    94a = 7520\n",
    "    ```\n",
    "\n",
    "    ```\n",
    "    a = 7520 / 94\n",
    "    a = 80\n",
    "    ```\n",
    "\n",
    "Therefore, you need to press Button A `80` times and Button B `40` times to reach the X and Y coordinates of the Prize."
   ]
  }
 ],
 "metadata": {
  "kernelspec": {
   "display_name": "aoc",
   "language": "python",
   "name": "python3"
  },
  "language_info": {
   "codemirror_mode": {
    "name": "ipython",
    "version": 3
   },
   "file_extension": ".py",
   "mimetype": "text/x-python",
   "name": "python",
   "nbconvert_exporter": "python",
   "pygments_lexer": "ipython3",
   "version": "3.12.5"
  }
 },
 "nbformat": 4,
 "nbformat_minor": 2
}
