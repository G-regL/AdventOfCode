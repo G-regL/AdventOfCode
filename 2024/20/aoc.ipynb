{
 "cells": [
  {
   "cell_type": "markdown",
   "metadata": {},
   "source": [
    "## AoC 2024 - Day xx"
   ]
  },
  {
   "cell_type": "code",
   "execution_count": null,
   "metadata": {},
   "outputs": [
    {
     "name": "stdout",
     "output_type": "stream",
     "text": [
      "1365\n",
      "986082\n"
     ]
    }
   ],
   "source": [
    "#from icecream import ic\n",
    "\n",
    "data = open('input.txt').read().split('\\n')\n",
    "\n",
    "max_r = len(data)\n",
    "max_c = len(data[0])\n",
    "\n",
    "grid = {(r,c): char for r, row in enumerate(data) for c, char in enumerate(row)}\n",
    "\n",
    "start = dict((v,k) for k,v in grid.items())[\"S\"]\n",
    "end = dict((v,k) for k,v in grid.items())[\"E\"]\n",
    "\n",
    "from collections import deque\n",
    "from itertools import combinations\n",
    "\n",
    "\n",
    "queue = deque([(start, 0)])\n",
    "distances = {start: 0}\n",
    "# Get dict of distances from star to all points, using BFS\n",
    "while queue:\n",
    "    (row, column), length = queue.popleft()\n",
    "    if (row, column) == end: continue\n",
    "    for (nr, nc) in [(row + 1, column), (row - 1, column), (row, column + 1), (row, column - 1)]:\n",
    "        if 0 > nr or nr >= max_r or 0 > nc or nc >= max_c: continue\n",
    "        if grid[(nr, nc)] == \"#\": continue\n",
    "        if (nr, nc) in distances: continue\n",
    "\n",
    "        #visited.add((nr, nc))\n",
    "        queue.append(((nr, nc), length + 1))\n",
    "        distances[(nr, nc)] = length + 1\n",
    "    \n",
    "\n",
    "\n",
    "def find_cheats(distances, cheat_length = 2, minium_cheat = 20):\n",
    "    valid_cheats = 0\n",
    "    for (pos1, dist1), (pos2, dist2) in combinations(distances.items(), 2):\n",
    "        manhattan = abs(pos1[0] - pos2[0]) + abs(pos1[1] - pos2[1])\n",
    "        if manhattan <= cheat_length:\n",
    "            shortcut_distance = dist2 - dist1 - manhattan\n",
    "            #print(shortcut_distance)\n",
    "            if shortcut_distance >= minium_cheat:\n",
    "                #print(pos1, pos2, dist2 - dist1 - manhattan)\n",
    "                valid_cheats += 1\n",
    "\n",
    "    return valid_cheats\n",
    "\n",
    "print(find_cheats(distances, 2, 100))\n",
    "print(find_cheats(distances, 20, 100))\n",
    "\n",
    "#draw_grid(grid, visited)\n",
    "\n",
    "#print(sum([1 for c in grid.values() if c == \".\"]) + 1)\n",
    "#print(sum([1 for c in grid.items() if c == \"#\"]))\n",
    "\n"
   ]
  }
 ],
 "metadata": {
  "kernelspec": {
   "display_name": "aoc",
   "language": "python",
   "name": "python3"
  },
  "language_info": {
   "codemirror_mode": {
    "name": "ipython",
    "version": 3
   },
   "file_extension": ".py",
   "mimetype": "text/x-python",
   "name": "python",
   "nbconvert_exporter": "python",
   "pygments_lexer": "ipython3",
   "version": "3.12.5"
  }
 },
 "nbformat": 4,
 "nbformat_minor": 2
}
