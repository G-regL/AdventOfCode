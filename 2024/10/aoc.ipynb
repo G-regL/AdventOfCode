{
 "cells": [
  {
   "cell_type": "markdown",
   "metadata": {},
   "source": [
    "## AoC 2024 - Day xx\n",
    "\n",
    "### Setup imports and get raw data"
   ]
  },
  {
   "cell_type": "code",
   "execution_count": 154,
   "metadata": {},
   "outputs": [
    {
     "name": "stdout",
     "output_type": "stream",
     "text": [
      "(40, 40)\n",
      "{(0, 3): 0, (0, 7): 0, (0, 17): 0, (0, 30): 0, (0, 32): 0, (1, 4): 0, (1, 12): 0, (1, 16): 0, (1, 24): 0, (1, 25): 0, (1, 33): 0, (2, 0): 0, (2, 4): 0, (2, 9): 0, (2, 17): 0, (2, 20): 0, (3, 5): 0, (4, 0): 0, (4, 17): 0, (4, 20): 0, (4, 29): 0, (4, 37): 0, (5, 2): 0, (5, 24): 0, (5, 37): 0, (5, 38): 0, (6, 3): 0, (6, 7): 0, (6, 9): 0, (6, 22): 0, (6, 29): 0, (6, 32): 0, (7, 9): 0, (7, 11): 0, (7, 13): 0, (7, 16): 0, (7, 24): 0, (7, 34): 0, (8, 14): 0, (8, 19): 0, (8, 25): 0, (8, 29): 0, (9, 36): 0, (10, 4): 0, (10, 8): 0, (10, 18): 0, (10, 20): 0, (10, 22): 0, (10, 28): 0, (10, 31): 0, (12, 2): 0, (12, 6): 0, (12, 8): 0, (12, 16): 0, (12, 18): 0, (12, 24): 0, (12, 27): 0, (12, 34): 0, (12, 39): 0, (13, 0): 0, (13, 22): 0, (13, 23): 0, (13, 26): 0, (13, 35): 0, (14, 4): 0, (14, 8): 0, (14, 32): 0, (14, 36): 0, (15, 9): 0, (15, 16): 0, (15, 33): 0, (16, 6): 0, (16, 10): 0, (16, 17): 0, (16, 27): 0, (16, 34): 0, (17, 7): 0, (17, 24): 0, (17, 31): 0, (18, 2): 0, (18, 3): 0, (18, 6): 0, (18, 10): 0, (18, 14): 0, (18, 22): 0, (18, 23): 0, (18, 39): 0, (19, 1): 0, (19, 11): 0, (19, 15): 0, (19, 18): 0, (19, 23): 0, (19, 29): 0, (20, 39): 0, (21, 1): 0, (21, 13): 0, (21, 18): 0, (21, 33): 0, (22, 11): 0, (22, 26): 0, (22, 29): 0, (22, 32): 0, (22, 36): 0, (23, 6): 0, (23, 8): 0, (23, 17): 0, (23, 23): 0, (23, 38): 0, (24, 5): 0, (24, 14): 0, (24, 29): 0, (25, 2): 0, (25, 8): 0, (25, 21): 0, (25, 39): 0, (26, 0): 0, (26, 7): 0, (26, 14): 0, (26, 18): 0, (26, 23): 0, (26, 29): 0, (26, 36): 0, (27, 7): 0, (27, 12): 0, (27, 16): 0, (27, 19): 0, (27, 21): 0, (27, 29): 0, (27, 31): 0, (28, 0): 0, (28, 6): 0, (28, 23): 0, (28, 27): 0, (28, 30): 0, (29, 8): 0, (29, 11): 0, (29, 21): 0, (29, 39): 0, (30, 13): 0, (30, 17): 0, (30, 32): 0, (30, 33): 0, (30, 36): 0, (31, 22): 0, (31, 26): 0, (31, 28): 0, (31, 35): 0, (32, 7): 0, (32, 13): 0, (32, 25): 0, (33, 3): 0, (33, 5): 0, (33, 18): 0, (33, 21): 0, (33, 35): 0, (33, 36): 0, (34, 8): 0, (34, 21): 0, (34, 31): 0, (35, 1): 0, (36, 15): 0, (36, 17): 0, (36, 35): 0, (36, 39): 0, (37, 3): 0, (37, 13): 0, (37, 20): 0, (37, 28): 0, (37, 31): 0, (38, 4): 0, (38, 6): 0, (38, 10): 0, (38, 13): 0, (38, 24): 0, (38, 25): 0, (39, 11): 0, (39, 23): 0, (39, 27): 0, (39, 39): 0}\n"
     ]
    }
   ],
   "source": [
    "from icecream import ic\n",
    "from collections import deque\n",
    "\n",
    "grid = [list(map(int, list(row))) for row in open('input.txt').read().split('\\n')]\n",
    "\n",
    "limits = (len(grid[0]), len(grid))\n",
    "print(limits)\n",
    "\n",
    "#dirs = [((1), '.^'), (-1, '.v'), (1j, '.>'), (-1j, '.<')]  # north, south, east, west\n",
    "#             Up       Down    Left     Right\n",
    "directions = [(-1, 0), (1, 0), (0, -1), (0, 1)]\n",
    "\n",
    "trailheads = {}\n",
    "\n",
    "for r, row in enumerate(grid):\n",
    "    for c, char in enumerate(row):\n",
    "        if char == 0:\n",
    "            trailheads[(r, c)] = 0\n",
    "            #queue.append(((r,c), set([(r,c)])))\n",
    "\n",
    "print(trailheads)"
   ]
  },
  {
   "cell_type": "markdown",
   "metadata": {},
   "source": [
    "### Process\n",
    "\n",
    "1. Parse input into grid\n",
    "2. Find all trailheads, and add to queue\n",
    "3. loop through queue\n",
    "    1. follow each path until it reaches a 9\n",
    "    2. If we reach a nine, add the end position to the set of paths for this trailheads\n",
    "    2. If at any step, we have more than one direction (aka a branch), then add that new possible direction to the queue\n"
   ]
  },
  {
   "cell_type": "markdown",
   "metadata": {},
   "source": [
    "### Part 1"
   ]
  },
  {
   "cell_type": "code",
   "execution_count": 155,
   "metadata": {},
   "outputs": [
    {
     "name": "stdout",
     "output_type": "stream",
     "text": [
      "482\n"
     ]
    }
   ],
   "source": [
    "\n",
    "from copy import deepcopy\n",
    "queue = deque([((r,c), 0, (r,c), set([(r,c)])) for (r,c) in trailheads.keys()])\n",
    "scores = deepcopy(trailheads)\n",
    "while queue:\n",
    "    (row, column), height, trailhead, path = queue.popleft()\n",
    "    #print(row, column, path)\n",
    "    #new_path = set()\n",
    "    #new_path.add\n",
    "\n",
    "    if height == 9:\n",
    "        scores[trailhead] += 1\n",
    "        # if trailhead == (6,6):\n",
    "        #     print(f\"Found 9!! {trailhead}, ({row},{column}), {path}\")\n",
    "        continue\n",
    "\n",
    "    for (dr, dc) in directions:\n",
    "        height = grid[row][column]\n",
    "        row_new, column_new = row + dr, column + dc\n",
    "        if 0 > row_new or row_new >= limits[0] or 0 > column_new or column_new >= limits[1]:\n",
    "            #print(f\"dir ({row_new},{column_new}) out of bounds\")\n",
    "            continue\n",
    "\n",
    "        #print(f\"({row},{column}) ({row_new},{column_new})\")\n",
    "\n",
    "        if grid[row_new][column_new] == grid[row][column] + 1 and (row_new, column_new) not in path:\n",
    "            #print(f\"Found step up at ({row_new},{column_new})\")\n",
    "    \n",
    "            path.add((row_new, column_new))\n",
    "            # if trailhead == (6,6):\n",
    "            #     print(f\"{path=}\")\n",
    "            queue.append(((row_new, column_new), grid[row_new][column_new], trailhead, path))\n",
    "    \n",
    "    #ic(queue)\n",
    "    #print(\"\\n\")\n",
    "\n",
    "#print(scores)\n",
    "print(sum(scores.values()))\n"
   ]
  },
  {
   "cell_type": "markdown",
   "metadata": {},
   "source": [
    "### Part 2"
   ]
  },
  {
   "cell_type": "code",
   "execution_count": 156,
   "metadata": {},
   "outputs": [
    {
     "name": "stdout",
     "output_type": "stream",
     "text": [
      "1094\n"
     ]
    }
   ],
   "source": [
    "from copy import deepcopy\n",
    "queue = deque([((r,c), 0, (r,c)) for (r,c) in trailheads.keys()])\n",
    "scores = deepcopy(trailheads)\n",
    "while queue:\n",
    "    (row, column), height, trailhead= queue.popleft()\n",
    "    #print(row, column, path)\n",
    "    #new_path = set()\n",
    "    #new_path.add\n",
    "\n",
    "    if height == 9:\n",
    "        scores[trailhead] += 1\n",
    "        # if trailhead == (6,6):\n",
    "        #     print(f\"Found 9!! {trailhead}, ({row},{column}), {path}\")\n",
    "        continue\n",
    "\n",
    "    for (dr, dc) in directions:\n",
    "        height = grid[row][column]\n",
    "        row_new, column_new = row + dr, column + dc\n",
    "        if 0 > row_new or row_new >= limits[0] or 0 > column_new or column_new >= limits[1]:\n",
    "            #print(f\"dir ({row_new},{column_new}) out of bounds\")\n",
    "            continue\n",
    "\n",
    "        #print(f\"({row},{column}) ({row_new},{column_new})\")\n",
    "\n",
    "        if grid[row_new][column_new] == grid[row][column] + 1:\n",
    "            #print(f\"Found step up at ({row_new},{column_new})\")\n",
    "            queue.append(((row_new, column_new), grid[row_new][column_new], trailhead))\n",
    "    \n",
    "    #ic(queue)\n",
    "    #print(\"\\n\")\n",
    "\n",
    "#print(scores)\n",
    "print(sum(scores.values()))"
   ]
  }
 ],
 "metadata": {
  "kernelspec": {
   "display_name": "aoc",
   "language": "python",
   "name": "python3"
  },
  "language_info": {
   "codemirror_mode": {
    "name": "ipython",
    "version": 3
   },
   "file_extension": ".py",
   "mimetype": "text/x-python",
   "name": "python",
   "nbconvert_exporter": "python",
   "pygments_lexer": "ipython3",
   "version": "3.12.5"
  }
 },
 "nbformat": 4,
 "nbformat_minor": 2
}
