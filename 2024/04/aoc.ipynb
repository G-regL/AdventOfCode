{
 "cells": [
  {
   "cell_type": "markdown",
   "metadata": {},
   "source": [
    "## AoC 2024 - Day 4\n"
   ]
  },
  {
   "cell_type": "code",
   "execution_count": null,
   "metadata": {},
   "outputs": [],
   "source": [
    "#from icecream import ic\n",
    "\n",
    "grid = open('input.txt').read().split('\\n')"
   ]
  },
  {
   "cell_type": "markdown",
   "metadata": {},
   "source": [
    "### Part 1"
   ]
  },
  {
   "cell_type": "code",
   "execution_count": null,
   "metadata": {},
   "outputs": [
    {
     "name": "stdout",
     "output_type": "stream",
     "text": [
      "2496\n"
     ]
    }
   ],
   "source": [
    "directions = {\n",
    "    \"N\": [(-1,0),(-2,0),(-3,0)],\n",
    "    \"S\": [(1,0),(2,0),(3,0)],\n",
    "    \"W\": [(0,-1),(0,-2),(0,-3)],\n",
    "    \"E\": [(0,1),(0,2),(0,3)], \n",
    "    \"NW\": [(-1,-1),(-2,-2),(-3,-3)],\n",
    "    \"NE\": [(-1,1),(-2,2),(-3,3)],\n",
    "    \"SE\": [(1,1),(2,2),(3,3)],\n",
    "    \"SW\": [(1,-1),(2,-2),(3,-3)],\n",
    "}\n",
    "\n",
    "line_max = len(grid[0]) - 1\n",
    "row_max = len(grid) - 1\n",
    "\n",
    "# def inbound(dirs, r, c) -> bool:\n",
    "#     global line_max, row_max\n",
    "#     valid = True\n",
    "#     for d in dirs:\n",
    "#         if row_max <= (r + d[0]) <= 0 or line_max <= (c + cardinal[1]) <= 0:\n",
    "#             valid = False\n",
    "#     return valid\n",
    "\n",
    "\n",
    "xmases = 0\n",
    "for ri, row in enumerate(grid):\n",
    "    for ci,letter in enumerate(row):\n",
    "        if grid[ri][ci] == \"X\":\n",
    "            #print(f\"Found X at ({ri}, {li})\")\n",
    "            for dir, cardinal in directions.items():\n",
    "                #l1, l2, l3 = None, None, None\n",
    "                if (\n",
    "                    (0 <= (ri + cardinal[0][0]) <= row_max and 0 <= (ri + cardinal[1][0]) <= row_max and 0 <= (ri + cardinal[2][0]) <= row_max) and\n",
    "                    (0 <= (ci + cardinal[0][1]) <= line_max and 0 <= (ci + cardinal[1][1]) <= line_max and 0 <= (ci + cardinal[2][1]) <= line_max)\n",
    "                ):\n",
    "                    l1 = grid[ri + cardinal[0][0]][ci + cardinal[0][1]]\n",
    "                    l2 = grid[ri + cardinal[1][0]][ci + cardinal[1][1]]\n",
    "                    l3 = grid[ri + cardinal[2][0]][ci + cardinal[2][1]]\n",
    "\n",
    "                    if ( l1 == \"M\" and l2 == \"A\" and l3 == \"S\"):\n",
    "                        # print(f\"Found XMAS going {dir} from ({ri},{ci})\")\n",
    "                        # l = f\"  XMAS = {grid[ri][ci]}({ri},{ci}); {l1}({ri + cardinal[0][0]},{ci + cardinal[0][1]}); \"\n",
    "                        # l += f\"{l2}({ri + cardinal[1][0]},{ci + cardinal[1][1]}); {l3}({ri + cardinal[2][0]},{ci + cardinal[2][1]})\"\n",
    "                        # print(l)\n",
    "                        xmases += 1\n",
    "\n",
    "print(xmases)\n"
   ]
  },
  {
   "cell_type": "markdown",
   "metadata": {},
   "source": [
    "### Part 2"
   ]
  },
  {
   "cell_type": "code",
   "execution_count": null,
   "metadata": {},
   "outputs": [],
   "source": [
    "\n",
    "directions_p2 = {\n",
    "    \"NW_SE\": [(-1,-1), (1,1), (1,1), (-1,-1)],\n",
    "    \"NE_SW\": [(-1,1), (1,-1), (1,-1), (-1,1)],\n",
    "    #\"SE_NW\": [(1,1), (-1,-1)],\n",
    "    #\"SW_NE\": [(1,-1), (-1,1)],\n",
    "}\n",
    "\n",
    "x_mases = 0\n",
    "for ri, row in enumerate(grid):\n",
    "    for ci,letter in enumerate(row):\n",
    "        if grid[ri][ci] == \"A\":\n",
    "            print(f\"Found A at ({ri}, {ci})\")\n",
    "\n",
    "            if (0 <= (ri + 1) <= row_max and \n",
    "                0 <= (ri + -1) <= row_max and\n",
    "                0 <= (ci + 1) <= line_max and \n",
    "                0 <= (ci + -1) <= line_max\n",
    "                ):\n",
    "                #print(f\" Adjacent letters in bound\")\n",
    "                p1 = [grid[ri + -1][ci + -1], grid[ri + 1][ci + 1]]\n",
    "                p2 = [grid[ri + -1][ci + 1], grid[ri + 1][ci + -1]]\n",
    "\n",
    "                print(f\"  Found letters {p1}, {p2}\")\n",
    "\n",
    "                if ((p1 == [\"M\", \"S\"] or p1 == [\"S\", \"M\"]) and (p2 == [\"M\", \"S\"] or p2 == [\"S\", \"M\"])):\n",
    "                # if ((l1 == \"M\" and l2 == \"S\" and l3 == \"M\" and l4 == \"S\") or (l1 == \"S\" and l2 == \"M\" and l3 == \"S\" and l4 == \"M\") or\n",
    "                    \n",
    "                #     (l1 == \"M\" and l2 == \"S\" and l3 == \"S\" and l4 == \"M\") or (l1 == \"S\" and l2 == \"M\" and l3 == \"M\" and l4 == \"S\")\n",
    "                # ):\n",
    "                # if ((l1 == \"M\" and l2 == \"S\") or (l1 == \"S\" and l2 == \"M\") or\n",
    "                #     (l1 == \"S\" and l2 == \"M\") or (l1 == \"M\" and l2 == \"S\") or\n",
    "                #     (l1 == \"M\" and l2 == \"S\") or (l1 == \"M\" and l2 == \"S\") or\n",
    "                #     (l1 == \"S\" and l2 == \"M\") or (l1 == \"S\" and l2 == \"<\")\n",
    "                # ):\n",
    "                    print(f\"  X-MAS at ({ri},{ci})\")\n",
    "                    l = f\"  X-MAS = {grid[ri][ci]}({ri},{ci}); {l1}({ri + cardinal[0][0]},{ci + cardinal[0][1]}); \"\n",
    "                    l += f\"{l2}({ri + cardinal[1][0]},{ci + cardinal[1][1]}))\"\n",
    "                    #print(l)\n",
    "                    x_mases += 1\n",
    "\n",
    "\n",
    "print(x_mases)"
   ]
  }
 ],
 "metadata": {
  "kernelspec": {
   "display_name": "aoc2023",
   "language": "python",
   "name": "python3"
  },
  "language_info": {
   "codemirror_mode": {
    "name": "ipython",
    "version": 3
   },
   "file_extension": ".py",
   "mimetype": "text/x-python",
   "name": "python",
   "nbconvert_exporter": "python",
   "pygments_lexer": "ipython3",
   "version": "3.11.4"
  }
 },
 "nbformat": 4,
 "nbformat_minor": 2
}
