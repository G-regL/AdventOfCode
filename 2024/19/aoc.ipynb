{
 "cells": [
  {
   "cell_type": "markdown",
   "metadata": {},
   "source": [
    "## AoC 2024 - Day 19"
   ]
  },
  {
   "cell_type": "code",
   "execution_count": null,
   "metadata": {},
   "outputs": [],
   "source": [
    "#from icecream import ic\n",
    "\n",
    "towels, designs = open('test.txt').read().split('\\n\\n')\n",
    "\n",
    "towels = towels.split(\", \")\n",
    "designs = designs.split(\"\\n\")\n",
    "\n",
    "towels.sort(key=len,reverse=True)\n",
    "\n",
    "#print(towels)\n",
    "#print(len(towels))\n",
    "possible = []\n",
    "for design in designs:\n",
    "    #print(design)\n",
    "    loops = 0\n",
    "    temp = design\n",
    "\n",
    "    \n",
    "    while temp != \"\" and loops < 1000:\n",
    "        new_design = temp\n",
    "        for t in towels:\n",
    "            if temp.startswith(t):\n",
    "                temp = temp[len(t):]\n",
    "            #print(design, t)\n",
    "\n",
    "        loops += 1\n",
    "\n",
    "    if temp == \"\":\n",
    "        #print(f\"{design} possible!!\")\n",
    "        possible.append(design)\n",
    "\n",
    "    #print()\n",
    "\n",
    "print(len(possible))\n",
    "#possible"
   ]
  },
  {
   "cell_type": "code",
   "execution_count": null,
   "metadata": {},
   "outputs": [],
   "source": [
    "#from icecream import ic\n",
    "\n",
    "from functools import cache\n",
    "\n",
    "towels, designs = open('input.txt').read().split('\\n\\n')\n",
    "\n",
    "towels = towels.split(\", \")\n",
    "designs = designs.split(\"\\n\")\n",
    "\n",
    "#towels.sort(key=len,reverse=True)\n",
    "\n",
    "@cache\n",
    "def check_pattern(design):\n",
    "    #print(design)\n",
    "    if design == \"\":\n",
    "        return 1\n",
    "    \n",
    "    total = 0\n",
    "    for t in towels:\n",
    "        if design.startswith(t):\n",
    "            total += check_pattern(design[len(t):])\n",
    "            \n",
    "    return total\n",
    "\n",
    "possible = [check_pattern(d) for d in designs]\n",
    "\n",
    "print(sum([1 for p in possible if p]))\n",
    "print(f\"{sum(possible):_}\")\n",
    "\n",
    "#print(check_pattern.cache_info())\n",
    "#possible"
   ]
  },
  {
   "cell_type": "code",
   "execution_count": null,
   "metadata": {},
   "outputs": [],
   "source": [
    "from functools import cache\n",
    "import re\n",
    "\n",
    "towels, designs = open('input.txt').read().split('\\n\\n')\n",
    "\n",
    "towels = towels.split(\", \")\n",
    "designs = designs.split(\"\\n\")\n",
    "\n",
    "pattern_regex = \"^(\" + \"|\".join(map(re.escape, towels)) + \")+$\"\n",
    "print(pattern_regex)\n",
    "possible = []\n",
    "for d in designs:\n",
    "    m = re.fullmatch(pattern_regex, d)\n",
    "    if m:\n",
    "        possible.append(m.groups())\n",
    "\n",
    "len(possible)\n",
    "    \n"
   ]
  }
 ],
 "metadata": {
  "kernelspec": {
   "display_name": "aoc",
   "language": "python",
   "name": "python3"
  },
  "language_info": {
   "codemirror_mode": {
    "name": "ipython",
    "version": 3
   },
   "file_extension": ".py",
   "mimetype": "text/x-python",
   "name": "python",
   "nbconvert_exporter": "python",
   "pygments_lexer": "ipython3",
   "version": "3.12.5"
  }
 },
 "nbformat": 4,
 "nbformat_minor": 2
}
