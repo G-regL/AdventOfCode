{
 "cells": [
  {
   "cell_type": "markdown",
   "metadata": {},
   "source": [
    "## AoC 2024 - Day 15"
   ]
  },
  {
   "cell_type": "code",
   "execution_count": null,
   "metadata": {},
   "outputs": [],
   "source": [
    "#from icecream import ic\n",
    "\n",
    "grid_raw, moves = open('test.txt').read().split('\\n\\n')\n",
    "\n",
    "\n",
    "robot = None\n",
    "grid = {}\n",
    "for r, row in enumerate(grid_raw.split(\"\\n\")):\n",
    "    for c, char in enumerate(row):\n",
    "        grid[(r,c)] = char\n",
    "        if char == \"@\":\n",
    "\n",
    "            robot = (r,c)\n",
    "\n",
    "print(robot)\n",
    "print(moves)\n",
    "\n",
    "print([char for (r, c), char in grid.items() if r == robot[0] and c > robot[1]])\n",
    "print([char for (r, c), char in grid.items() if c == robot[1] and r > robot[0]])\n",
    "\n",
    "for move in list(moves):\n",
    "    print(move)\n"
   ]
  }
 ],
 "metadata": {
  "kernelspec": {
   "display_name": "aoc",
   "language": "python",
   "name": "python3"
  },
  "language_info": {
   "codemirror_mode": {
    "name": "ipython",
    "version": 3
   },
   "file_extension": ".py",
   "mimetype": "text/x-python",
   "name": "python",
   "nbconvert_exporter": "python",
   "pygments_lexer": "ipython3",
   "version": "3.12.5"
  }
 },
 "nbformat": 4,
 "nbformat_minor": 2
}
