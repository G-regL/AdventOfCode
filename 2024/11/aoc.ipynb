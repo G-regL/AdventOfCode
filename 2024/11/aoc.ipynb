{
 "cells": [
  {
   "cell_type": "markdown",
   "metadata": {},
   "source": [
    "## AoC 2024 - Day 11"
   ]
  },
  {
   "cell_type": "markdown",
   "metadata": {},
   "source": [
    "### Part 1"
   ]
  },
  {
   "cell_type": "code",
   "execution_count": null,
   "metadata": {},
   "outputs": [],
   "source": [
    "#from icecream import ic\n",
    "\n",
    "stones = list(map(int, open('test.txt').read().split(' ')))\n",
    "\n",
    "for blink in range(75):\n",
    "    new_stones = []\n",
    "    #print(stones)\n",
    "    for stone in stones:\n",
    "        if stone == 0:\n",
    "            new_stones.append(1)\n",
    "        elif len(str(stone)) % 2 == 0:\n",
    "            ss = str(stone)\n",
    "            new_stones.append(int(ss[:len(ss)//2]))\n",
    "            new_stones.append(int(ss[len(ss)//2:]))\n",
    "        else:\n",
    "            new_stones.append(stone * 2024)\n",
    "    stones = new_stones\n",
    "    print(f\"{blink=}, {len(stones)=}\")\n",
    "print(len(stones))\n"
   ]
  },
  {
   "cell_type": "markdown",
   "metadata": {},
   "source": [
    "### Part 2\n",
    "Taken largely from HN because there's literally no other way to do it.."
   ]
  },
  {
   "cell_type": "code",
   "execution_count": null,
   "metadata": {},
   "outputs": [],
   "source": [
    "#from icecream import ic\n",
    "from functools import cache\n",
    "\n",
    "stones = list(map(int, open('test.txt').read().split(' ')))\n",
    "\n",
    "@cache\n",
    "def get_new_stones(stone, blink):\n",
    "    if blink == 0:\n",
    "        return 1\n",
    "    if stone == 0:\n",
    "        return get_new_stones(1, blink - 1)\n",
    "    elif len(str(stone)) % 2 == 0:\n",
    "        ss = str(stone)\n",
    "        l = len(ss)\n",
    "        return get_new_stones(int(ss[:l//2]), blink - 1) + get_new_stones(int(ss[l//2:]), blink - 1)\n",
    "        new_stones.append(int(ss[int(len(ss)/2):]))\n",
    "    else:\n",
    "        return get_new_stones(stone * 2024, blink - 1)\n",
    "\n",
    "\n",
    "sums = [get_new_stones(stone, 75) for stone in stones]\n",
    "print(f\"{sum(sums)}\")\n"
   ]
  }
 ],
 "metadata": {
  "kernelspec": {
   "display_name": "aoc",
   "language": "python",
   "name": "python3"
  },
  "language_info": {
   "codemirror_mode": {
    "name": "ipython",
    "version": 3
   },
   "file_extension": ".py",
   "mimetype": "text/x-python",
   "name": "python",
   "nbconvert_exporter": "python",
   "pygments_lexer": "ipython3",
   "version": "3.12.5"
  }
 },
 "nbformat": 4,
 "nbformat_minor": 2
}
