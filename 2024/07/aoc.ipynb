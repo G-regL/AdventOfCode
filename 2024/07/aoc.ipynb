{
 "cells": [
  {
   "cell_type": "markdown",
   "metadata": {},
   "source": [
    "## AoC 2024 - Day xx\n",
    "\n",
    "### Setup imports and get raw data"
   ]
  },
  {
   "cell_type": "code",
   "execution_count": null,
   "metadata": {},
   "outputs": [
    {
     "name": "stdout",
     "output_type": "stream",
     "text": [
      "test_value=190: numbers=[10, 19]\n",
      "test_value=3267: numbers=[81, 40, 27]\n",
      "3307\n",
      "1107\n",
      "test_value=83: numbers=[17, 5]\n",
      "90\n",
      "test_value=156: numbers=[15, 6]\n",
      "96\n",
      "test_value=7290: numbers=[6, 8, 6, 15]\n",
      "77\n",
      "69\n",
      "105\n",
      "test_value=161011: numbers=[16, 10, 13]\n",
      "183\n",
      "143\n",
      "test_value=192: numbers=[17, 8, 14]\n",
      "158\n",
      "126\n",
      "test_value=21037: numbers=[9, 7, 18, 13]\n",
      "101\n",
      "157\n",
      "247\n",
      "test_value=292: numbers=[11, 6, 16, 20]\n",
      "108\n",
      "132\n",
      "340\n",
      "190\n"
     ]
    }
   ],
   "source": [
    "#from icecream import ic\n",
    "from math import prod\n",
    "\n",
    "data = open('test.txt').read().split('\\n')\n",
    "#data = [l  for line in data for l in line.split(\":\")]\n",
    "#[ (int(left), map(int, right.split(\" \")) ) for left, right\n",
    "\n",
    "#print(data)\n",
    "valid = []\n",
    "for line in data:\n",
    "    test_value, numbers = line.split(\": \")\n",
    "    test_value, numbers = int(test_value), list(map(int, numbers.split(\" \")))\n",
    "\n",
    "    print(f\"{test_value=}: {numbers=}\")\n",
    "\n",
    "    if sum(numbers) == test_value or prod(numbers) == test_value:\n",
    "        valid.append(test_value)\n",
    "        continue\n",
    "\n",
    "\n",
    "    for idx in range(len(numbers) -1):\n",
    "        value = numbers[idx] * numbers[idx + 1] + sum(numbers[idx + 1:])\n",
    "        print(value)\n",
    "        value = numbers[:idx] + numbers[idx + 1] + sum(numbers[idx + 1:])\n",
    "        print(value)\n",
    "\n",
    "    # for thing in range(len(numbers)):\n",
    "    #     bits = [[0] * (len(numbers) - 1)]\n",
    "    #     bits += [[1] * (len(numbers) - 1)]\n",
    "        \n",
    "\n",
    "    #     for r in range(len(numbers) - 1):\n",
    "    #         b = [0] * (len(numbers) - 1)\n",
    "    #         #print(b)\n",
    "    #         b[r] = 1\n",
    "    #         bits += [b]\n",
    "\n",
    "    #     print(bits)\n",
    "    \n",
    "    #ops = [\"prod\"] * (len(numbers) -1)\n",
    "\n",
    "    \n",
    "\n",
    "        \n",
    "\n",
    "\n",
    "print(sum(valid))\n"
   ]
  }
 ],
 "metadata": {
  "kernelspec": {
   "display_name": "aoc",
   "language": "python",
   "name": "python3"
  },
  "language_info": {
   "codemirror_mode": {
    "name": "ipython",
    "version": 3
   },
   "file_extension": ".py",
   "mimetype": "text/x-python",
   "name": "python",
   "nbconvert_exporter": "python",
   "pygments_lexer": "ipython3",
   "version": "3.12.5"
  }
 },
 "nbformat": 4,
 "nbformat_minor": 2
}
