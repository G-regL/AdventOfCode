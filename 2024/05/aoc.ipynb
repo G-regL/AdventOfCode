{
 "cells": [
  {
   "cell_type": "markdown",
   "metadata": {},
   "source": [
    "## AoC 2024 - Day 5\n"
   ]
  },
  {
   "cell_type": "code",
   "execution_count": null,
   "metadata": {},
   "outputs": [],
   "source": [
    "from icecream import ic\n",
    "\n",
    "rules_raw, updates_raw = open('test.txt').read().split('\\n\\n')\n",
    "\n",
    "rules = {}\n",
    "for rule in rules_raw.split(\"\\n\"):\n",
    "    first, second = list(map(int, rule.split(\"|\")))\n",
    "    if first in rules:\n",
    "        rules[first].append(second)\n",
    "    else:\n",
    "        rules[first] = [second]\n",
    "\n",
    "ic(rules)\n",
    "\n",
    "updates = []\n",
    "for update in updates_raw.split(\"\\n\"):\n",
    "    updates.append(list(map(int,update.split(\",\"))))\n",
    "\n",
    "ic(updates)\n"
   ]
  },
  {
   "cell_type": "code",
   "execution_count": null,
   "metadata": {},
   "outputs": [],
   "source": [
    "safe = set()\n",
    "unsafe = set()\n",
    "for update in updates:\n",
    "    #ic(f\"{update=}\")\n",
    "    is_unsafe = False\n",
    "    for i,page in enumerate(update[:-1]):\n",
    "        page_next = update[i + 1]\n",
    "\n",
    "        if page in rules:\n",
    "            #ic(f\"{page=}, {page_next=}, {rules[page]=}\")\n",
    "            if page_next not in rules[page]:\n",
    "                is_unsafe = True\n",
    "                #ic(\"UNSAFE\")\n",
    "        else:\n",
    "            if page in rules[page_next]:\n",
    "                is_unsafe = True\n",
    "                #ic(\"UNSAFE\")\n",
    "    \n",
    "    if not is_unsafe:\n",
    "        safe.add(tuple(update))\n",
    "    else:\n",
    "        unsafe.add(tuple(update))\n",
    "    #ic()\n",
    "\n",
    "ic(safe)\n",
    "\n",
    "sum = 0\n",
    "for item in safe:\n",
    "    temp = list(item)\n",
    "    sum += temp[int((len(temp) - 1)/2)]\n",
    "sum\n",
    "\n",
    "\n"
   ]
  },
  {
   "cell_type": "code",
   "execution_count": null,
   "metadata": {},
   "outputs": [],
   "source": [
    "ic(unsafe)\n",
    "\n",
    "def check_safety(update) -> bool:\n",
    "    is_unsafe = False\n",
    "    for i,page in enumerate(update[:-1]):\n",
    "        page_next = update[i + 1]\n",
    "\n",
    "        if page in rules:\n",
    "            #ic(f\"{page=}, {page_next=}, {rules[page]=}\")\n",
    "            if page_next not in rules[page]:\n",
    "                is_unsafe = True\n",
    "                #ic(\"UNSAFE\")\n",
    "        else:\n",
    "            if page in rules[page_next]:\n",
    "                is_unsafe = True\n",
    "                #ic(\"UNSAFE\")\n",
    "\n",
    "    return not is_unsafe\n",
    "\n",
    "\n"
   ]
  }
 ],
 "metadata": {
  "kernelspec": {
   "display_name": "aoc",
   "language": "python",
   "name": "python3"
  },
  "language_info": {
   "codemirror_mode": {
    "name": "ipython",
    "version": 3
   },
   "file_extension": ".py",
   "mimetype": "text/x-python",
   "name": "python",
   "nbconvert_exporter": "python",
   "pygments_lexer": "ipython3",
   "version": "3.12.5"
  }
 },
 "nbformat": 4,
 "nbformat_minor": 2
}
